{
 "cells": [
  {
   "cell_type": "code",
   "execution_count": 23,
   "metadata": {},
   "outputs": [],
   "source": [
    "from bs4 import BeautifulSoup\n",
    "import requests"
   ]
  },
  {
   "cell_type": "code",
   "execution_count": 21,
   "metadata": {},
   "outputs": [
    {
     "name": "stdout",
     "output_type": "stream",
     "text": [
      "Searching....................\n",
      "\n",
      "Hava durumu\n",
      "Çarşamba 08:00\n",
      "Çok bulutlu\n",
      "2C\n"
     ]
    }
   ],
   "source": [
    "headers = {'User-Agent': 'Mozilla/5.0 (Windows NT 10.0; Win64; x64) AppleWebKit/537.36 (KHTML, like Gecko) Chrome/110.0.0.0 Safari/537.36 OPR/96.0.0.0'}\n",
    "def weather(city):\n",
    "    city = city.replace(\" \", \"+\")\n",
    "    res = requests.get(f'https://www.google.com/search?q={city}&oq={city}&aqs=chrome.0.35i39l2j0l4j46j69i60.6128j1j7&sourceid=chrome&ie=UTF-8', headers=headers)\n",
    "    print(\"Searching....................\\n\")\n",
    "    soup = BeautifulSoup(res.text, 'html.parser')\n",
    "    location = soup.select('#wob_loc')[0].getText().strip()\n",
    "    time = soup.select('#wob_dts')[0].getText().strip()\n",
    "    info = soup.select('#wob_dc')[0].getText().strip()\n",
    "    weather = soup.select('#wob_tm')[0].getText().strip()\n",
    "    print(location)\n",
    "    print(time)\n",
    "    print(info)\n",
    "    print(weather+\"C\")\n",
    "\n",
    "city = input(\"Enter city name >> \")\n",
    "city = city+ \" weather\"\n",
    "weather(city)"
   ]
  },
  {
   "cell_type": "code",
   "execution_count": 24,
   "metadata": {},
   "outputs": [
    {
     "name": "stdout",
     "output_type": "stream",
     "text": [
      "Searching....................\n",
      "\n"
     ]
    },
    {
     "ename": "IndexError",
     "evalue": "list index out of range",
     "output_type": "error",
     "traceback": [
      "\u001b[1;31m---------------------------------------------------------------------------\u001b[0m",
      "\u001b[1;31mIndexError\u001b[0m                                Traceback (most recent call last)",
      "\u001b[1;32mc:\\Users\\TOSHIBA\\Desktop\\Projelerim\\Get Live Weather\\weather.ipynb Cell 3\u001b[0m in \u001b[0;36m<cell line: 18>\u001b[1;34m()\u001b[0m\n\u001b[0;32m     <a href='vscode-notebook-cell:/c%3A/Users/TOSHIBA/Desktop/Projelerim/Get%20Live%20Weather/weather.ipynb#W3sZmlsZQ%3D%3D?line=15'>16</a>\u001b[0m city \u001b[39m=\u001b[39m \u001b[39minput\u001b[39m(\u001b[39m\"\u001b[39m\u001b[39mEnter city name >> \u001b[39m\u001b[39m\"\u001b[39m)\n\u001b[0;32m     <a href='vscode-notebook-cell:/c%3A/Users/TOSHIBA/Desktop/Projelerim/Get%20Live%20Weather/weather.ipynb#W3sZmlsZQ%3D%3D?line=16'>17</a>\u001b[0m city \u001b[39m=\u001b[39m city\u001b[39m+\u001b[39m \u001b[39m\"\u001b[39m\u001b[39m weather\u001b[39m\u001b[39m\"\u001b[39m\n\u001b[1;32m---> <a href='vscode-notebook-cell:/c%3A/Users/TOSHIBA/Desktop/Projelerim/Get%20Live%20Weather/weather.ipynb#W3sZmlsZQ%3D%3D?line=17'>18</a>\u001b[0m weather(city)\n",
      "\u001b[1;32mc:\\Users\\TOSHIBA\\Desktop\\Projelerim\\Get Live Weather\\weather.ipynb Cell 3\u001b[0m in \u001b[0;36mweather\u001b[1;34m(city)\u001b[0m\n\u001b[0;32m      <a href='vscode-notebook-cell:/c%3A/Users/TOSHIBA/Desktop/Projelerim/Get%20Live%20Weather/weather.ipynb#W3sZmlsZQ%3D%3D?line=4'>5</a>\u001b[0m \u001b[39mprint\u001b[39m(\u001b[39m\"\u001b[39m\u001b[39mSearching....................\u001b[39m\u001b[39m\\n\u001b[39;00m\u001b[39m\"\u001b[39m)\n\u001b[0;32m      <a href='vscode-notebook-cell:/c%3A/Users/TOSHIBA/Desktop/Projelerim/Get%20Live%20Weather/weather.ipynb#W3sZmlsZQ%3D%3D?line=5'>6</a>\u001b[0m soup \u001b[39m=\u001b[39m BeautifulSoup(res\u001b[39m.\u001b[39mtext, \u001b[39m'\u001b[39m\u001b[39mhtml.parser\u001b[39m\u001b[39m'\u001b[39m)\n\u001b[1;32m----> <a href='vscode-notebook-cell:/c%3A/Users/TOSHIBA/Desktop/Projelerim/Get%20Live%20Weather/weather.ipynb#W3sZmlsZQ%3D%3D?line=6'>7</a>\u001b[0m location \u001b[39m=\u001b[39m soup\u001b[39m.\u001b[39;49mselect(\u001b[39m'\u001b[39;49m\u001b[39m#wob_loc\u001b[39;49m\u001b[39m'\u001b[39;49m)[\u001b[39m0\u001b[39;49m]\u001b[39m.\u001b[39mgetText()\u001b[39m.\u001b[39mstrip()\n\u001b[0;32m      <a href='vscode-notebook-cell:/c%3A/Users/TOSHIBA/Desktop/Projelerim/Get%20Live%20Weather/weather.ipynb#W3sZmlsZQ%3D%3D?line=7'>8</a>\u001b[0m time \u001b[39m=\u001b[39m soup\u001b[39m.\u001b[39mselect(\u001b[39m'\u001b[39m\u001b[39m#wob_dts\u001b[39m\u001b[39m'\u001b[39m)[\u001b[39m0\u001b[39m]\u001b[39m.\u001b[39mgetText()\u001b[39m.\u001b[39mstrip()\n\u001b[0;32m      <a href='vscode-notebook-cell:/c%3A/Users/TOSHIBA/Desktop/Projelerim/Get%20Live%20Weather/weather.ipynb#W3sZmlsZQ%3D%3D?line=8'>9</a>\u001b[0m info \u001b[39m=\u001b[39m soup\u001b[39m.\u001b[39mselect(\u001b[39m'\u001b[39m\u001b[39m#wob_dc\u001b[39m\u001b[39m'\u001b[39m)[\u001b[39m0\u001b[39m]\u001b[39m.\u001b[39mgetText()\u001b[39m.\u001b[39mstrip()\n",
      "\u001b[1;31mIndexError\u001b[0m: list index out of range"
     ]
    }
   ],
   "source": [
    "headers = {'User-Agent': 'Mozilla/5.0 (Windows NT 10.0; Win64; x64) AppleWebKit/537.36 (KHTML, like Gecko) Chrome/110.0.0.0 Safari/537.36 OPR/96.0.0.0'}\n",
    "def weather(city):\n",
    "    city = city.replace(\" \", \"+\")\n",
    "    res = requests.get(f'https://www.mgm.gov.tr/tahmin/il-ve-ilceler.aspx#/', headers=headers)\n",
    "    print(\"Searching....................\\n\")\n",
    "    soup = BeautifulSoup(res.text, 'html.parser')\n",
    "    location = soup.select('#wob_loc')[0].getText().strip()\n",
    "    time = soup.select('#wob_dts')[0].getText().strip()\n",
    "    info = soup.select('#wob_dc')[0].getText().strip()\n",
    "    weather = soup.select('#wob_tm')[0].getText().strip()\n",
    "    print(location)\n",
    "    print(time)\n",
    "    print(info)\n",
    "    print(weather+\"C\")\n",
    "\n",
    "city = input(\"Enter city name >> \")\n",
    "city = city+ \" weather\"\n",
    "weather(city)"
   ]
  }
 ],
 "metadata": {
  "kernelspec": {
   "display_name": "pythonProject",
   "language": "python",
   "name": "python3"
  },
  "language_info": {
   "codemirror_mode": {
    "name": "ipython",
    "version": 3
   },
   "file_extension": ".py",
   "mimetype": "text/x-python",
   "name": "python",
   "nbconvert_exporter": "python",
   "pygments_lexer": "ipython3",
   "version": "3.9.12"
  },
  "orig_nbformat": 4
 },
 "nbformat": 4,
 "nbformat_minor": 2
}
